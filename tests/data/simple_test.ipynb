{
 "cells": [
  {
   "cell_type": "markdown",
   "source": [
    "# Test\n",
    "\n",
    "This is a test"
   ],
   "metadata": {
    "collapsed": false
   },
   "id": "cb55137f9bd8631a"
  },
  {
   "cell_type": "code",
   "execution_count": 1,
   "outputs": [
    {
     "name": "stdout",
     "output_type": "stream",
     "text": [
      "Testing cell output\n"
     ]
    }
   ],
   "source": [
    "print(\"Testing cell output\")"
   ],
   "metadata": {
    "collapsed": false,
    "ExecuteTime": {
     "end_time": "2023-08-19T17:36:06.201577Z",
     "start_time": "2023-08-19T17:36:06.186816Z"
    }
   },
   "id": "b98e1edfdbade14d"
  }
 ],
 "metadata": {
  "kernelspec": {
   "display_name": "Python 3",
   "language": "python",
   "name": "python3"
  },
  "language_info": {
   "codemirror_mode": {
    "name": "ipython",
    "version": 2
   },
   "file_extension": ".py",
   "mimetype": "text/x-python",
   "name": "python",
   "nbconvert_exporter": "python",
   "pygments_lexer": "ipython2",
   "version": "2.7.6"
  }
 },
 "nbformat": 4,
 "nbformat_minor": 5
}
